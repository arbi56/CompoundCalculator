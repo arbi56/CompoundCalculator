{
 "cells": [
  {
   "cell_type": "markdown",
   "metadata": {},
   "source": [
    "CompoundCalulator 20200816\n",
    "==========================\n",
    "Given a list of base compound names and molecular weights, this notebook calculates possible derivatives (e.g. metabolites) in 2 phases, and adds adducts and losses resulting in a list of possible ion masses with labels.\n",
    "The intention is that this be used with the PCVG compound finding code, and the idea is that once we have a suggested identification, e.g. ibuprofen, we can calculate other potential masses and look for matches with the ions we've found. This eliminates a lot of manual calculations and allows interactive investigation, e.g. if we find an adduct that corresponds to addition of C2H3O2Na we can quickly incorporate it into our lists and see if it shows up elsewhere. It also allows us to look for forms that we might not otherwise consider."
   ]
  },
  {
   "cell_type": "markdown",
   "metadata": {},
   "source": [
    "To do\n",
    "----\n",
    "- Add UI - a form?\n",
    "- Clean up and standardize code\n",
    "- Refactor the Composition class to use Count and include adduct, etc.\n"
   ]
  },
  {
   "cell_type": "markdown",
   "metadata": {},
   "source": [
    "Changes\n",
    "-------\n",
    "\n",
    "Modifications are separated from the base compound with underscores so that only losses have a minus sign making the putput easier to read.\n",
    "\n",
    "The base compound information is now a list of (name, mass) tuples which provides a way to incorporate specific known modifications. For example, vinpocetin shows a loss of C2H4, possibly following oxidations, which then undergoes further pahase 1 and 2 modifications so the base_compound list contains both Vinpo and Apo-vinpo.\n",
    "\n",
    "The output can now include hereodimers which are calculated by generating new compounds from all pairs of modified compounds, i.e. after the phase 1 and phase 2 nodifications have been generated but prior to generating the final list with adducts. NOTE: this can generate a lot of extra entries!"
   ]
  },
  {
   "cell_type": "code",
   "execution_count": 1,
   "metadata": {},
   "outputs": [],
   "source": [
    "from itertools import combinations\n",
    "from itertools import groupby"
   ]
  },
  {
   "cell_type": "markdown",
   "metadata": {},
   "source": [
    "Class and function definitions\n",
    "------------------------------\n",
    "The basic entity is a 'Composition'...NB. this is not an elemental composition but simply a text label, a count and a mass. When compositions are combined, the labels are concatenated (using a specified separator character) and the masses are added."
   ]
  },
  {
   "cell_type": "code",
   "execution_count": 2,
   "metadata": {},
   "outputs": [
    {
     "name": "stdout",
     "output_type": "stream",
     "text": [
      "Proton:  Composition(Name='H+', Count=1, Mass=1.00727)\n",
      "Normal init: Composition(Name='2(Na-H)', Count=1, Mass=43.963888)\n",
      "From tuple: Composition(Name='2(K-H)', Count=1, Mass=75.911762)\n",
      "From merge: Composition(Name='2(Na-H).2(K-H)', Count=1, Mass=119.87565)\n",
      "Expanded: ['2(Na-H)']\n",
      "From tuple list: Composition(Name='2(Na-H).2(K-H).NH3', Count=1, Mass=136.902199)\n"
     ]
    }
   ],
   "source": [
    "from dataclasses import dataclass\n",
    "\n",
    "@dataclass\n",
    "class Composition:\n",
    "    Name: str = \"\"\n",
    "    Count: int = 1\n",
    "    Mass: float=-1\n",
    "    \n",
    "    mods = {}\n",
    "    \n",
    "    def __init__(self, name, count, mass=None):\n",
    "        self.Name = f'{name}' if count == 1 else f'{count}({name})'\n",
    "        self.Count = 1    # there's only one of these even if the 'count' (really a multiplier) is gretaer\n",
    "        self.Mass = mass if mass else self.Mods[name]*count\n",
    "    \n",
    "    # Make the Composition from a (Name, Count) tuple\n",
    "    @classmethod\n",
    "    def from_tuple(cls, t):\n",
    "        return Composition(t[0],t[1])\n",
    "\n",
    "    # make a composition from a list of (Name,Count)tuples\n",
    "    @classmethod\n",
    "    def from_tuple_list(cls, t_list):\n",
    "        comp = None\n",
    "        \n",
    "        for t in t_list:           \n",
    "            if not comp:               \n",
    "                comp = Composition.from_tuple(t)    #creat a comp from the first in the list so we can append others to it\n",
    "            else:\n",
    "                comp2 = Composition.from_tuple(t)\n",
    "                comp = comp.add_comp(comp2, sep='.')\n",
    "                \n",
    "        return comp\n",
    "    \n",
    "    @classmethod\n",
    "    def proton(cls):\n",
    "        return Composition('H+', 1, 1.00727)\n",
    "    \n",
    "    def protonate(self):\n",
    "        return self.add_comp(Composition('H+', 1, 1.00727), sep='.')\n",
    "    \n",
    "    def deprotonate(self):\n",
    "        return self.add_comp(Composition('[-H+]-', 1, -1.00727), sep='.')\n",
    "\n",
    "    def make_copy(self, mult=1):\n",
    "        return Composition(self.Name, self.Count*mult, self.Mass*mult)\n",
    "    \n",
    "    def label(self):\n",
    "        return self.Name\n",
    "    \n",
    "    # Merge two compositions to generate a new one with a mass\n",
    "    def add_comp(self, comp1, sep='_'):\n",
    "        new_name = self.label() + sep + comp1.label()\n",
    "        new_mass = self.Mass + comp1.Mass\n",
    "        return Composition( new_name, 1, mass=new_mass)\n",
    "    \n",
    "    # expands a composition by generating a list of Name repeated Count times\n",
    "    def expand(self):\n",
    "        result = [self.Name for n in range(self.Count)]\n",
    "        return result\n",
    "\n",
    "#provide the set of allowed changes\n",
    "Composition.Mods = {'OH':15.99492,\n",
    "        'COOH':29.97418,     #COOH is CH3->COOH, i.e. +O2, -H2)\n",
    "        'gluc':176.032088,\n",
    "        'sulphate':79.956815,\n",
    "        'NH3':17.026549,     #adducts from here\n",
    "        'Na-H':21.981944,\n",
    "        'K-H':37.955881,\n",
    "        'Ca-2H': 37.946941,\n",
    "        'H2O':-18.010565,\n",
    "        'NaAc': 82.003074,\n",
    "        'NaFo': 67.987424,     # sodium formate\n",
    "        'C2H4O2':60.021129,\n",
    "        'CH2O2':46.004931,\n",
    "        'CO2':-43.989829}\n",
    " \n",
    "print('Proton: ', Composition.proton())\n",
    "\n",
    "a = Composition('Na-H',2)\n",
    "print('Normal init:', a)\n",
    "\n",
    "b = Composition.from_tuple(('K-H',2))\n",
    "print('From tuple:', b)\n",
    "\n",
    "ab = a.add_comp(b, sep='.')\n",
    "print('From merge:', ab)\n",
    "\n",
    "print('Expanded:', a.expand())\n",
    "\n",
    "t_list = [('Na-H',2),('K-H',2), ('NH3', 1)]\n",
    "abc = Composition.from_tuple_list(t_list)\n",
    "print('From tuple list:', abc)"
   ]
  },
  {
   "cell_type": "code",
   "execution_count": 3,
   "metadata": {},
   "outputs": [
    {
     "name": "stdout",
     "output_type": "stream",
     "text": [
      "17 should be 17\n"
     ]
    }
   ],
   "source": [
    "def make_combinations(limit_list, max_combinations):\n",
    "    \"\"\"Given a list of limits as tuples (comp, upper_limit), return all combinations to a given maximum value\n",
    "    \"\"\"\n",
    "\n",
    "    entities = []\n",
    "\n",
    "    # Use the limit_list to generate an expanded list of individual entities, i.e. [('X', 2), ('Y',2)] +> X, X, Y, Y\n",
    "    for l in limit_list:\n",
    "        for n in range(l[1]):\n",
    "            entities.append(l[0])\n",
    "\n",
    "    entity_combinations = []\n",
    "\n",
    "    # Now find all combinations of 1 entity, 2 entities...to the max number required\n",
    "    # This will include duplicates, e.g. x,y and y,x\n",
    "    for i in range(1, max_combinations + 1): \n",
    "        entity_combinations += list(combinations(entities, i))\n",
    "\n",
    "    # making this into a set will find the unique combinations.\n",
    "    # initially each combination tuple was sorted to make sure they were canonicalized, but this doesn't seem to be needed\n",
    "    # i.e. combs = [tuple(sorted(c)) for c in entity_combinations]; cel = set(combs)\n",
    "    \n",
    "    csl=set(entity_combinations)   \n",
    "\n",
    "    csa = []\n",
    "\n",
    "    # we convert these back into the form ('x',2)('y,'1) by grouping the elements of each combination\n",
    "    # and recording the element and its count...Note each group has to be converted to a list for this to work\n",
    "    for c in csl:\n",
    "        csa.append( [(key, len(list(group))) for key, group in groupby(c)])\n",
    "    \n",
    "    return csa\n",
    "        \n",
    "combs = make_combinations([('y',3), ('x',2), ('z',2)], 3)\n",
    "print(len(combs),'should be 17')   #...should be 17"
   ]
  },
  {
   "cell_type": "code",
   "execution_count": 4,
   "metadata": {},
   "outputs": [],
   "source": [
    "def add_mods(compounds, limits, sep='_'):\n",
    "    \"\"\"\n",
    "    Adds modifications to each compound in the list returning the new compound list.\n",
    "    The modfications are provided as a list of (mods, max count) tuples\n",
    "    \"\"\"\n",
    "    mods = []\n",
    "\n",
    "    # Make the compounds by copying the base and adding the possible mods\n",
    "    for c in compounds:\n",
    "        for l in limits:\n",
    "            for i in range(l[1]):\n",
    "                new_comp = c.make_copy().add_comp(Composition(l[0], i+1), sep=sep)\n",
    "                mods.append(new_comp)\n",
    "                #print(new_comp)\n",
    "\n",
    "    compounds += mods\n",
    "    \n",
    "    return compounds\n"
   ]
  },
  {
   "cell_type": "markdown",
   "metadata": {},
   "source": [
    "Setup\n",
    "-----\n",
    "\n",
    "Provide the  base compound information and other parameters.\n",
    "The base compounds are supplied as a list of (name, mass) tuples.\n",
    "As shown below, the mass need not be a real known compound but can be an observed and unexplained peak so that it's potential derivatives are generated."
   ]
  },
  {
   "cell_type": "code",
   "execution_count": 5,
   "metadata": {},
   "outputs": [],
   "source": [
    "base_compounds = [('Ibu', 206.1307)]   #Identifier + MW\n",
    "#base_compounds = [('Vinpo', 350.1994),('Apo_vinpo', 322.1681)]  #Apo_vinpo is vinpo-C2H4\n",
    "#base_compounds = [('x543', 543.2068+1.00727)] \n",
    "\n",
    "base_name = base_compounds[0][0]  #Extrcat the name of the first compound to use for file naming\n",
    "\n",
    "multimer_limit = 3\n",
    "max_adduct_count = 4 # total number of adducts allowed\n",
    "ionization = 'positive'\n",
    "include_hetero_dimers = True"
   ]
  },
  {
   "cell_type": "code",
   "execution_count": 6,
   "metadata": {},
   "outputs": [],
   "source": [
    "# Define the limits for metabolites and adducts...\n",
    "# Defining this way is not required but allows the sets to be easily changed depending on polarity.\n",
    "\n",
    "phase1_limits = [('OH', 2), ('COOH', 1)]  # metabolite modifications - phase 1\n",
    "\n",
    "if ionization == 'negative':\n",
    "    phase2_limits = [('gluc', 1)] #, ('sulphate', 1)]\n",
    "    adduct_limits = [('Na-H', 3), ('K-H', 2), ('NaAc',2), ('NaFo', 1)]  #, ('NH3', 1), ('NaAc',2)\n",
    "    loss_limits = [('H2O',2), ('CO2',1)]\n",
    "else:\n",
    "    phase2_limits = [('gluc', 2)]\n",
    "    adduct_limits = [('Na-H', 3), ('K-H', 3), ('NH3', 1), ('NaAc',2), ('NaFo', 1)]\n",
    "    loss_limits = [('H2O',2)]"
   ]
  },
  {
   "cell_type": "markdown",
   "metadata": {},
   "source": [
    "Step 1 - Adduct generation\n",
    "---------------------------\n",
    "\n",
    "Generate a list of possible adduct forms by generating all comibnations of adducts (up to the specified limit) and selecting the unique forms (i.e. as far as we are concerned, a+b+a is the same as a+a+b). Note: this approach would also work if we wanted to allow combinations of the metabolites. These will be added to each compound."
   ]
  },
  {
   "cell_type": "code",
   "execution_count": 7,
   "metadata": {},
   "outputs": [
    {
     "name": "stdout",
     "output_type": "stream",
     "text": [
      "76 adduct forms\n"
     ]
    }
   ],
   "source": [
    "adduct_combs = make_combinations(adduct_limits, 4)\n",
    "    \n",
    "adduct_comps = [Composition.from_tuple_list(c) for c in adduct_combs]\n",
    "adduct_comps = sorted(adduct_comps, key=lambda x: x.Mass)\n",
    "\n",
    "print(len(adduct_comps),'adduct forms')\n",
    "\n",
    "# for ac in adduct_comps:\n",
    "#     print(ac)"
   ]
  },
  {
   "cell_type": "markdown",
   "metadata": {},
   "source": [
    "Step 2 - Compound generation\n",
    "-----------------------------\n",
    "\n",
    "We convert the base compound list to a of compositions and then successively apply the various modifications, generating extended compound lists, as follows\n",
    "\n",
    "- phase 1\n",
    "- phase 2\n",
    "\n",
    "Then calculate the dimers and heterodimers (if desired)"
   ]
  },
  {
   "cell_type": "code",
   "execution_count": 8,
   "metadata": {},
   "outputs": [
    {
     "name": "stdout",
     "output_type": "stream",
     "text": [
      "4 after phase 1\n",
      "12 after phase 2\n",
      "102 with multimers\n",
      "306 after losses\n"
     ]
    }
   ],
   "source": [
    "# Make the compounds by copying the base and adding the possible mods\n",
    "\n",
    "compounds = [Composition(name, 1, mass) for name, mass in base_compounds]\n",
    "        \n",
    "compounds = add_mods(compounds, phase1_limits)\n",
    "\n",
    "print(len(compounds), 'after phase 1')\n",
    "\n",
    "compounds = add_mods(compounds, phase2_limits)\n",
    "print(len(compounds), 'after phase 2')\n",
    "\n",
    "multimers = []\n",
    "\n",
    "for c in compounds:\n",
    "    for m in range(2, multimer_limit+1):\n",
    "        new_comp = c.make_copy(m)\n",
    "        multimers.append(new_comp)\n",
    "\n",
    "if include_hetero_dimers:\n",
    "    for i, c in enumerate(compounds):\n",
    "        for j in range(i+1, len(compounds)):\n",
    "            new_comp = c.make_copy()\n",
    "            new_comp_2 = compounds[j].make_copy()\n",
    "            new_comp = new_comp.add_comp(new_comp_2, sep='+')\n",
    "            multimers.append(new_comp)\n",
    "    \n",
    "compounds += multimers\n",
    "\n",
    "print(len(compounds), 'with multimers')\n",
    "\n",
    "compounds = add_mods(compounds, loss_limits, sep='-')\n",
    "print (len(compounds), 'after losses')\n",
    "\n",
    "# for c in compounds:\n",
    "#     print(c)"
   ]
  },
  {
   "cell_type": "markdown",
   "metadata": {},
   "source": [
    "Step 3 - Generate ion forms\n",
    "----------------------------\n",
    "\n",
    "We now add all the adduct forms to each of the compounds. The approach relies on adducts being formed by replacing labile protons and are therefore indpendent of the polarity; the final form is determined by providing a charge agent, i.e. adding or subtracting protons.\n"
   ]
  },
  {
   "cell_type": "code",
   "execution_count": 9,
   "metadata": {},
   "outputs": [
    {
     "name": "stdout",
     "output_type": "stream",
     "text": [
      "23562\n"
     ]
    }
   ],
   "source": [
    "ion_forms = []  \n",
    "\n",
    "for c in compounds:\n",
    "    \n",
    "    # add the base compound, with a proton added or subtracted deopending on the ionization mode\n",
    "    new_comp = c.make_copy()\n",
    "    if ionization == 'negative':\n",
    "        new_comp = new_comp.deprotonate()\n",
    "    else:\n",
    "        new_comp = new_comp.protonate() \n",
    "        \n",
    "    ion_forms.append(new_comp)   \n",
    "    \n",
    "    # then add the adduct forms\n",
    "    for a in adduct_comps:\n",
    "        new_comp = c.make_copy().add_comp(a, sep='.')\n",
    "        if ionization == 'negative':\n",
    "            new_comp = new_comp.deprotonate()\n",
    "        else:\n",
    "            new_comp = new_comp.protonate()            \n",
    "        ion_forms.append(new_comp)       \n",
    "        \n",
    "print(len(ion_forms))\n",
    "# for ion in sorted(ion_forms, key=lambda x: x.Mass):\n",
    "#     print(ion)"
   ]
  },
  {
   "cell_type": "markdown",
   "metadata": {},
   "source": [
    "Step 4 - Save the mass/name list\n",
    "--------------------------------\n",
    "\n",
    "The list is saved as a simple tab delimited text file.\n",
    "- the main format is: mass, label\n",
    "- an additional format: mass, xic width, name is intended to be used with PeakView Extract XIC (by importing it)\n",
    "\n",
    "The list can also be truncated to an upper mass limit"
   ]
  },
  {
   "cell_type": "code",
   "execution_count": 14,
   "metadata": {},
   "outputs": [
    {
     "name": "stdout",
     "output_type": "stream",
     "text": [
      "/Users/ronbonner/Data/PCA/Ibu ions pos.txt\n",
      "1595 lines written\n"
     ]
    }
   ],
   "source": [
    "import os\n",
    "\n",
    "mass_limit = 500\n",
    "xic_width = 0.0   # if 0 the normal form is used...alternative could be 0.01 to generate the PeakView compatible form\n",
    "write_locally = True\n",
    "\n",
    "count = 0\n",
    "\n",
    "ion_forms = sorted(ion_forms, key=lambda x: x.Mass)\n",
    "\n",
    "# Set up fie names and paths...this is a convenient platform independent way to provide file paths\n",
    "f_dir = os.sep + os.path.join('Users','ronbonner','Data','PCA')\n",
    "\n",
    "if ionization == \"negative\":\n",
    "    f_name = f'{base_name} ions neg.txt'\n",
    "else:\n",
    "    f_name = f'{base_name} ions pos.txt'\n",
    "\n",
    "output_path = f_name if write_locally else os.path.join(f_dir, f_name)\n",
    "\n",
    "print (output_path)\n",
    "\n",
    "with open(output_path, 'w') as f:\n",
    "    \n",
    "    for ion in ion_forms:\n",
    "\n",
    "        if ion.Mass > mass_limit: \n",
    "            break       \n",
    "      \n",
    "        if xic_width:\n",
    "            f.write('{:10.4f}\\t{}\\t{}\\n'.format(ion.Mass, xic_width,ion.Name))\n",
    "        else:\n",
    "            f.write(f'{ion.Mass:10.4f}\\t{ion.Name}\\n')\n",
    "            \n",
    "        count += 1\n",
    "    \n",
    "    f.close()\n",
    "\n",
    "print(count, 'lines written')"
   ]
  },
  {
   "cell_type": "markdown",
   "metadata": {},
   "source": [
    "Step 5 - Verification\n",
    "---------------------\n",
    "\n",
    "Just to be sure the file exists, we re-open it, read the lines and report how many there are. The local file can also be viewed with the magic commands (preceded by a !) shown below."
   ]
  },
  {
   "cell_type": "code",
   "execution_count": 11,
   "metadata": {},
   "outputs": [
    {
     "name": "stdout",
     "output_type": "stream",
     "text": [
      "1595 read\n"
     ]
    }
   ],
   "source": [
    "with open(output_path, 'r') as f:\n",
    "    \n",
    "    lines = f.readlines()\n",
    "    \n",
    "    f.close()\n",
    "\n",
    "print(len(lines), 'read')"
   ]
  },
  {
   "cell_type": "code",
   "execution_count": 12,
   "metadata": {},
   "outputs": [],
   "source": [
    "# !pwd\n",
    "# !ls -l"
   ]
  },
  {
   "cell_type": "code",
   "execution_count": 13,
   "metadata": {},
   "outputs": [],
   "source": [
    "# !cat 'Vinpo ions pos.txt'"
   ]
  },
  {
   "cell_type": "code",
   "execution_count": null,
   "metadata": {},
   "outputs": [],
   "source": []
  }
 ],
 "metadata": {
  "kernelspec": {
   "display_name": "Python 3",
   "language": "python",
   "name": "python3"
  },
  "language_info": {
   "codemirror_mode": {
    "name": "ipython",
    "version": 3
   },
   "file_extension": ".py",
   "mimetype": "text/x-python",
   "name": "python",
   "nbconvert_exporter": "python",
   "pygments_lexer": "ipython3",
   "version": "3.7.7"
  }
 },
 "nbformat": 4,
 "nbformat_minor": 4
}
