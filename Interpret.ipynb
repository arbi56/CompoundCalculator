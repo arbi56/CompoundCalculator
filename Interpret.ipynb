{
 "cells": [
  {
   "cell_type": "code",
   "execution_count": 1,
   "metadata": {},
   "outputs": [],
   "source": [
    "# CompoundCalculator - Interpretation\n",
    "# 20201105 Designed to look at the output from the matching routines and  visualize/interpret them\n",
    "# This is expolratory and lifted directly from the Calculator\n",
    "    "
   ]
  },
  {
   "cell_type": "code",
   "execution_count": 2,
   "metadata": {},
   "outputs": [
    {
     "ename": "NameError",
     "evalue": "name 'matches' is not defined",
     "output_type": "error",
     "traceback": [
      "\u001b[0;31m---------------------------------------------------------------------------\u001b[0m",
      "\u001b[0;31mNameError\u001b[0m                                 Traceback (most recent call last)",
      "\u001b[0;32m<ipython-input-2-f15a89323b61>\u001b[0m in \u001b[0;36m<module>\u001b[0;34m\u001b[0m\n\u001b[1;32m      2\u001b[0m \u001b[0;31m#     print(m)\u001b[0m\u001b[0;34m\u001b[0m\u001b[0;34m\u001b[0m\u001b[0;34m\u001b[0m\u001b[0m\n\u001b[1;32m      3\u001b[0m \u001b[0;34m\u001b[0m\u001b[0m\n\u001b[0;32m----> 4\u001b[0;31m \u001b[0msorted_matches\u001b[0m \u001b[0;34m=\u001b[0m \u001b[0msorted\u001b[0m\u001b[0;34m(\u001b[0m\u001b[0mmatches\u001b[0m\u001b[0;34m,\u001b[0m \u001b[0mkey\u001b[0m \u001b[0;34m=\u001b[0m \u001b[0;32mlambda\u001b[0m \u001b[0mx\u001b[0m\u001b[0;34m:\u001b[0m\u001b[0mx\u001b[0m\u001b[0;34m[\u001b[0m\u001b[0;36m1\u001b[0m\u001b[0;34m]\u001b[0m\u001b[0;34m.\u001b[0m\u001b[0mRoot\u001b[0m\u001b[0;34m)\u001b[0m\u001b[0;34m\u001b[0m\u001b[0;34m\u001b[0m\u001b[0m\n\u001b[0m\u001b[1;32m      5\u001b[0m \u001b[0;34m\u001b[0m\u001b[0m\n\u001b[1;32m      6\u001b[0m \u001b[0mmatch_groups\u001b[0m \u001b[0;34m=\u001b[0m \u001b[0mgroupby\u001b[0m\u001b[0;34m(\u001b[0m\u001b[0msorted_matches\u001b[0m\u001b[0;34m,\u001b[0m \u001b[0mkey\u001b[0m\u001b[0;34m=\u001b[0m \u001b[0;32mlambda\u001b[0m \u001b[0mx\u001b[0m\u001b[0;34m:\u001b[0m \u001b[0mx\u001b[0m\u001b[0;34m[\u001b[0m\u001b[0;36m1\u001b[0m\u001b[0;34m]\u001b[0m\u001b[0;34m.\u001b[0m\u001b[0mRoot\u001b[0m\u001b[0;34m)\u001b[0m\u001b[0;34m\u001b[0m\u001b[0;34m\u001b[0m\u001b[0m\n",
      "\u001b[0;31mNameError\u001b[0m: name 'matches' is not defined"
     ]
    }
   ],
   "source": [
    "# for m in matches[:10]:\n",
    "#     print(m)\n",
    "\n",
    "sorted_matches = sorted(matches, key = lambda x:x[1].Root)\n",
    "\n",
    "match_groups = groupby(sorted_matches, key= lambda x: x[1].Root)\n",
    "\n",
    "for k, grp in match_groups:\n",
    "    \n",
    "    g = list(grp)\n",
    "    \n",
    "    g_inten = 0\n",
    "    form_count, form_int = 0,0\n",
    "    g_in_name_count, g_in_name_int = 0,0\n",
    "    \n",
    "    for x in g:\n",
    "        c = x[1]    # composition\n",
    "\n",
    "        pm, pi = peaks[x[0]]\n",
    "        g_inten += pi\n",
    "        if 'CH2O2' in c.Name:\n",
    "            form_count += 1\n",
    "            form_int += pi\n",
    "        if k in c.Name:\n",
    "            g_in_name_count += 1\n",
    "            g_in_name_int += pi\n",
    "#             print(c)\n",
    "\n",
    "        \n",
    "    \n",
    "#     desc = f'{k}:\\tAll {len(g)}, {g_inten:.1f}, With g_name {g_in_name_count}, {g_in_name_int:.1f}\\tCH2O2 {form_count}, {form_int:.1f}'\n",
    "#     print(desc)"
   ]
  },
  {
   "cell_type": "code",
   "execution_count": null,
   "metadata": {},
   "outputs": [],
   "source": [
    "sorted_matches = sorted(matches, key = lambda x:x[1].Root)\n",
    "match_groups = groupby(sorted_matches, key= lambda x: x[1].Root)\n",
    "\n",
    "for k, grp in match_groups:\n",
    "        \n",
    "    gl = sorted(list(g), key=lambda x: x[1].Name)    \n",
    "    gl_grps = groupby(gl, key= lambda x: 'CH2O2' in x[1].Name)\n",
    "    \n",
    "    for kk, kg in gl_grps:\n",
    "        for q in list(kg):\n",
    "            print(q)\n",
    "#     g_inten = 0\n",
    "#     form_count, form_int = 0,0\n",
    "#     g_in_name_count, g_in_name_int = 0,0\n",
    "    \n",
    "#     for x in gl:\n",
    "#         c = x[1]    # composition\n",
    "\n",
    "#         pm, pi = peaks[x[0]]\n",
    "#         g_inten += pi\n",
    "#         if 'CH2O2' in c.Name:\n",
    "#             form_count += 1\n",
    "#             form_int += pi\n",
    "#         if k in c.Name:\n",
    "#             g_in_name_count += 1\n",
    "#             g_in_name_int += pi\n",
    "#             print(c)\n",
    "\n",
    "        \n",
    "    \n",
    "#     desc = f'{k}:\\tAll {len(g)}, {g_inten:.1f}, With g_name {g_in_name_count}, {g_in_name_int:.1f}\\tCH2O2 {form_count}, {form_int:.1f}'\n",
    "    print(desc)"
   ]
  }
 ],
 "metadata": {
  "kernelspec": {
   "display_name": "Python 3",
   "language": "python",
   "name": "python3"
  },
  "language_info": {
   "codemirror_mode": {
    "name": "ipython",
    "version": 3
   },
   "file_extension": ".py",
   "mimetype": "text/x-python",
   "name": "python",
   "nbconvert_exporter": "python",
   "pygments_lexer": "ipython3",
   "version": "3.7.7"
  }
 },
 "nbformat": 4,
 "nbformat_minor": 4
}
