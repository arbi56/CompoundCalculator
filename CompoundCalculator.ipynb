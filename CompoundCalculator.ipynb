{
 "cells": [
  {
   "cell_type": "code",
   "execution_count": 13,
   "metadata": {},
   "outputs": [],
   "source": [
    "# 200804\n",
    "# Given a compound MW calculates the ion forms for related products..."
   ]
  },
  {
   "cell_type": "code",
   "execution_count": 14,
   "metadata": {},
   "outputs": [],
   "source": [
    "from itertools import combinations\n",
    "from itertools import groupby"
   ]
  },
  {
   "cell_type": "code",
   "execution_count": 15,
   "metadata": {
    "collapsed": true,
    "jupyter": {
     "outputs_hidden": true,
     "source_hidden": true
    }
   },
   "outputs": [
    {
     "name": "stdout",
     "output_type": "stream",
     "text": [
      "Proton:  Composition(Name='H+', Count=1, Mass=1.00727)\n",
      "Normal init: Composition(Name='2(Na-H)', Count=1, Mass=43.963888)\n",
      "From tuple: Composition(Name='2(K-H)', Count=1, Mass=75.911762)\n",
      "From merge: Composition(Name='2(Na-H).2(K-H)', Count=1, Mass=119.87565)\n",
      "Expanded: ['2(Na-H)']\n",
      "From tuple list: Composition(Name='2(Na-H).2(K-H).NH3', Count=1, Mass=136.902199)\n"
     ]
    }
   ],
   "source": [
    "from dataclasses import dataclass\n",
    "\n",
    "@dataclass\n",
    "class Composition:\n",
    "    Name: str = \"\"\n",
    "    Count: int = 1\n",
    "    Mass: float=-1\n",
    "    \n",
    "    mods = {}\n",
    "    \n",
    "    def __init__(self, name, count, mass=None):\n",
    "        self.Name = f'{name}' if count == 1 else f'{count}({name})'\n",
    "        self.Count = 1    # there's only one of these even if the 'count' (really a multiplier) is gretaer\n",
    "        self.Mass = mass if mass else self.Mods[name]*count\n",
    "    \n",
    "    # Make the Composition from a (Name, Count) tuple\n",
    "    @classmethod\n",
    "    def from_tuple(cls, t):\n",
    "        return Composition(t[0],t[1])\n",
    "\n",
    "    # make a composition from a list of (Name,Count)tuples\n",
    "    @classmethod\n",
    "    def from_tuple_list(cls, t_list):\n",
    "        comp = None\n",
    "        \n",
    "        for t in t_list:           \n",
    "            if not comp:               \n",
    "                comp = Composition.from_tuple(t)    #creat a comp from the first in the list so we can append others to it\n",
    "            else:\n",
    "                comp2 = Composition.from_tuple(t)\n",
    "                comp = comp.add_comp(comp2, sep='.')\n",
    "                \n",
    "        return comp\n",
    "    \n",
    "    @classmethod\n",
    "    def proton(cls):\n",
    "        return Composition('H+', 1, 1.00727)\n",
    "    \n",
    "    def protonate(self):\n",
    "        return self.add_comp(Composition('H+', 1, 1.00727), sep='.')\n",
    "    \n",
    "    def deprotonate(self):\n",
    "        return self.add_comp(Composition('[-H+]-', 1, -1.00727), sep='.')\n",
    "\n",
    "    def make_copy(self, mult=1):\n",
    "        return Composition(self.Name, self.Count*mult, self.Mass*mult)\n",
    "    \n",
    "    def label(self):\n",
    "        return self.Name\n",
    "    \n",
    "    # Merege two compositions to generate a new one with a mass\n",
    "    def add_comp(self, comp1, sep='-'):\n",
    "        new_name = self.label() + sep + comp1.label()\n",
    "        new_mass = self.Mass + comp1.Mass\n",
    "        return Composition( new_name, 1, mass=new_mass)\n",
    "    \n",
    "    # expands a composition by generating a list of Name repeated Count times\n",
    "    def expand(self):\n",
    "        result = [self.Name for n in range(self.Count)]\n",
    "        return result\n",
    "\n",
    "Composition.Mods = {'OH':15.99492,\n",
    "        'COOH':29.97418,     #COOH is CH3->COOH, i.e. +O2, -H2)\n",
    "        'gluc':176.032088,\n",
    "        'sulphate':79.956815,\n",
    "        'NH3':17.026549,     #adducts from here\n",
    "        'Na-H':21.981944,\n",
    "        'K-H':37.955881,\n",
    "        'Ca-2H': 37.946941,\n",
    "        'H2O':-18.010565,\n",
    "        'NaAc': 82.003074,\n",
    "        'NaFo': 67.987424,     # sodium formate\n",
    "        'C2H4O2':60.021129,\n",
    "        'CH2O2':46.004931,\n",
    "        'CO2':-43.989829,\n",
    "        'C2H4': -28.0313}\n",
    " \n",
    "print('Proton: ', Composition.proton())\n",
    "\n",
    "a = Composition('Na-H',2)\n",
    "print('Normal init:', a)\n",
    "\n",
    "b = Composition.from_tuple(('K-H',2))\n",
    "print('From tuple:', b)\n",
    "\n",
    "ab = a.add_comp(b, sep='.')\n",
    "print('From merge:', ab)\n",
    "\n",
    "print('Expanded:', a.expand())\n",
    "\n",
    "t_list = [('Na-H',2),('K-H',2), ('NH3', 1)]\n",
    "abc = Composition.from_tuple_list(t_list)\n",
    "print('From tuple list:', abc)"
   ]
  },
  {
   "cell_type": "code",
   "execution_count": 16,
   "metadata": {
    "jupyter": {
     "source_hidden": true
    }
   },
   "outputs": [
    {
     "name": "stdout",
     "output_type": "stream",
     "text": [
      "17\n"
     ]
    }
   ],
   "source": [
    "def make_combinations(limit_list, max_combinations):\n",
    "    \"\"\"Given a list of limits in as tuples (comp, upper_limit), return all combinations to a given maximum value\n",
    "    \"\"\"\n",
    "\n",
    "    entities = []\n",
    "\n",
    "    # Use the limit_list to generate an expanded list of individual entities, i.e. [('X', 2), ('Y',2)] +> X, X, Y, Y\n",
    "    for l in limit_list:\n",
    "        for n in range(l[1]):\n",
    "            entities.append(l[0])\n",
    "\n",
    "    entity_combinations = []\n",
    "\n",
    "    # Now find all combinations of 1 entity, 2 entities...to the max number required\n",
    "    # This will include duplicates, e.g. x,y and y,x\n",
    "    for i in range(1, max_combinations + 1): \n",
    "        entity_combinations += list(combinations(entities, i))\n",
    "\n",
    "    # making this into a set will find the unique combinations.\n",
    "    # initially the combination tuple were sorted to make sure tey were canonicalized, but this doesn't seem to be needed\n",
    "    # i.e. combs = [tuple(sorted(c)) for c in entity_combinations]; cel = set(combs)\n",
    "    \n",
    "    csl=set(entity_combinations)   \n",
    "\n",
    "    csa = []\n",
    "\n",
    "    # we convert these back into the form ('x',2)('y,'1) by grouping the elements of each combination\n",
    "    # and recording the element and its count...Note each group has to be converted to a list for this to work\n",
    "    for c in csl:\n",
    "        csa.append( [(key, len(list(group))) for key, group in groupby(c)])\n",
    "    \n",
    "    return csa\n",
    "        \n",
    "combs = make_combinations([('y',3), ('x',2), ('z',2)], 3)\n",
    "print(len(combs))   #...should be 17"
   ]
  },
  {
   "cell_type": "code",
   "execution_count": 17,
   "metadata": {
    "jupyter": {
     "source_hidden": true
    }
   },
   "outputs": [],
   "source": [
    "# add modifications, provided as a list of (mods, max count) tuples to each compound in the list\n",
    "# return the new compound list\n",
    "def add_mods(compounds, limits):\n",
    "\n",
    "    mods = []\n",
    "\n",
    "    # Make the compounds by copying the base and adding the possible mods\n",
    "    for c in compounds:\n",
    "        for l in limits:\n",
    "            for i in range(l[1]):\n",
    "                new_comp = c.make_copy().add_comp(Composition(l[0], i+1))\n",
    "                mods.append(new_comp)\n",
    "                #print(new_comp)\n",
    "\n",
    "    compounds += mods\n",
    "    \n",
    "    return compounds\n"
   ]
  },
  {
   "cell_type": "code",
   "execution_count": 27,
   "metadata": {},
   "outputs": [],
   "source": [
    "base_name, base_mass = 'Ibu', 206.1307   #Iidentifier + MW\n",
    "# base_name = 'x543'\n",
    "# base_mass = 543.2068+1.00727\n",
    "\n",
    "multimer_limit = 3\n",
    "max_adduct_count = 4 # total number of adducts allowed\n",
    "ionization = 'negative'\n",
    "include_hetero_dimers = True\n",
    "base_mods = [] #['C2H4']"
   ]
  },
  {
   "cell_type": "code",
   "execution_count": 34,
   "metadata": {},
   "outputs": [],
   "source": [
    "if ionization == 'negative':\n",
    "    phase1_limits = [('OH', 1), ('COOH', 1)]  # metabolite modifications - phase 1\n",
    "    phase2_limits = [('gluc', 1)] #, ('sulphate', 1)]\n",
    "    adduct_limits = [('Na-H', 3), ('K-H', 2), ('NaAc',2), ('NaFo', 1)]  #, ('NH3', 1), ('NaAc',2)\n",
    "    loss_limits = [('H2O',2), ('CO2',1)]\n",
    "else:\n",
    "    phase1_limits = [('OH', 2), ('COOH', 1)]  # metabolite modifications - phase 1\n",
    "    phase2_limits = [('gluc', 2)]\n",
    "    adduct_limits = [('Na-H', 3), ('K-H', 3), ('NH3', 1), ('NaAc',2), ('NaFo', 1)]\n",
    "    loss_limits = [('H2O',2)]"
   ]
  },
  {
   "cell_type": "code",
   "execution_count": 35,
   "metadata": {},
   "outputs": [
    {
     "name": "stdout",
     "output_type": "stream",
     "text": [
      "43 adduct forms\n"
     ]
    }
   ],
   "source": [
    "adduct_combs = make_combinations(adduct_limits, 4)\n",
    "    \n",
    "adduct_comps = [Composition.from_tuple_list(c) for c in adduct_combs]\n",
    "adduct_comps = sorted(adduct_comps, key=lambda x: x.Mass)\n",
    "\n",
    "print(len(adduct_comps),'adduct forms')\n",
    "\n",
    "# for ac in adduct_comps:\n",
    "#     print(ac)"
   ]
  },
  {
   "cell_type": "code",
   "execution_count": 36,
   "metadata": {},
   "outputs": [
    {
     "name": "stdout",
     "output_type": "stream",
     "text": [
      "3 after phase 1\n",
      "6 after phase 2\n",
      "33 with multimers\n",
      "132 after losses\n"
     ]
    }
   ],
   "source": [
    "base_compound = Composition(base_name, 1, base_mass)\n",
    "\n",
    "compounds = [base_compound]\n",
    "\n",
    "if base_mods:\n",
    "    for c in base_mods:\n",
    "        new_comp = base_compound.make_copy().add_comp(Composition(c, 1))   #limited to 1\n",
    "        compounds.append(new_comp)\n",
    "        \n",
    "# Make the compounds by copying the base and adding the possible mods\n",
    "\n",
    "compounds = add_mods(compounds, phase1_limits)\n",
    "print(len(compounds), 'after phase 1')\n",
    "\n",
    "compounds = add_mods(compounds, phase2_limits)\n",
    "print(len(compounds), 'after phase 2')\n",
    "\n",
    "multimers = []\n",
    "\n",
    "for c in compounds:\n",
    "    for m in range(2, multimer_limit+1):\n",
    "        new_comp = c.make_copy(m)\n",
    "        multimers.append(new_comp)\n",
    "\n",
    "if include_hetero_dimers:\n",
    "    for i, c in enumerate(compounds):\n",
    "        for j in range(i+1, len(compounds)):\n",
    "            new_comp = c.make_copy()\n",
    "            new_comp_2 = compounds[j].make_copy()\n",
    "            new_comp = new_comp.add_comp(new_comp_2, sep='+')\n",
    "            multimers.append(new_comp)\n",
    "    \n",
    "compounds += multimers\n",
    "\n",
    "print(len(compounds), 'with multimers')\n",
    "\n",
    "compounds = add_mods(compounds, loss_limits)\n",
    "print (len(compounds), 'after losses')\n",
    "\n",
    "# for c in compounds:\n",
    "#     print(c)"
   ]
  },
  {
   "cell_type": "code",
   "execution_count": 37,
   "metadata": {},
   "outputs": [
    {
     "name": "stdout",
     "output_type": "stream",
     "text": [
      "5808\n"
     ]
    }
   ],
   "source": [
    "ion_forms = []  #[base_compound.add_comp(Composition.proton(), sep='.')]\n",
    "\n",
    "for c in compounds:\n",
    "    \n",
    "    # add the base compound, with a proton or with one subtracted\n",
    "    new_comp = c.make_copy()\n",
    "    new_comp = new_comp.deprotonate()\n",
    "    ion_forms.append(new_comp)   \n",
    "    \n",
    "    # then add the adduct forms\n",
    "    for a in adduct_comps:\n",
    "        new_comp = c.make_copy().add_comp(a, sep='.')\n",
    "        if ionization == 'negative':\n",
    "            new_comp = new_comp.deprotonate()\n",
    "        else:\n",
    "            new_comp = new_comp.protonate()            \n",
    "        ion_forms.append(new_comp)       \n",
    "        \n",
    "print(len(ion_forms))\n",
    "# for ion in ion_forms:\n",
    "#     print(ion)"
   ]
  },
  {
   "cell_type": "code",
   "execution_count": 38,
   "metadata": {},
   "outputs": [
    {
     "name": "stdout",
     "output_type": "stream",
     "text": [
      "5808\n",
      "/Users/ronbonner/Data/PCA/Ibu ions neg.txt\n"
     ]
    }
   ],
   "source": [
    "import os\n",
    "\n",
    "print(len(ion_forms))\n",
    "\n",
    "ion_forms = sorted(ion_forms, key=lambda x: x.Mass)\n",
    "\n",
    "# Set up fie names and paths...\n",
    "f_dir = os.sep + os.path.join('Users','ronbonner','Data','PCA')\n",
    "\n",
    "if ionization == \"negative\":\n",
    "    f_name = f'{base_name} ions neg.txt'\n",
    "else:\n",
    "    f_name = f'{base_name} ions pos.txt'\n",
    "\n",
    "data_path = os.path.join(f_dir, f_name)\n",
    "\n",
    "print (data_path)\n",
    "\n",
    "with open(data_path, 'w') as f:\n",
    "    \n",
    "    for ion in ion_forms:\n",
    "        #print(f'{ion.Mass:10.4f}  {ion.Name}')\n",
    "        f.write(f'{ion.Mass:10.4f}  {ion.Name}\\n')\n",
    "    \n",
    "    f.close()\n",
    "        "
   ]
  },
  {
   "cell_type": "code",
   "execution_count": 39,
   "metadata": {},
   "outputs": [
    {
     "name": "stdout",
     "output_type": "stream",
     "text": [
      "[Composition(Name='Ibu', Count=1, Mass=206.1307), Composition(Name='Ibu-OH', Count=1, Mass=222.12562), Composition(Name='Ibu-COOH', Count=1, Mass=236.10487999999998), Composition(Name='Ibu-gluc', Count=1, Mass=382.162788), Composition(Name='Ibu-OH-gluc', Count=1, Mass=398.15770799999996), Composition(Name='Ibu-COOH-gluc', Count=1, Mass=412.13696799999997), Composition(Name='2(Ibu)', Count=1, Mass=412.2614), Composition(Name='3(Ibu)', Count=1, Mass=618.3921), Composition(Name='2(Ibu-OH)', Count=1, Mass=444.25124), Composition(Name='3(Ibu-OH)', Count=1, Mass=666.37686)]\n"
     ]
    }
   ],
   "source": [
    "print(compounds[:10])"
   ]
  },
  {
   "cell_type": "code",
   "execution_count": null,
   "metadata": {
    "jupyter": {
     "source_hidden": true
    }
   },
   "outputs": [],
   "source": []
  }
 ],
 "metadata": {
  "kernelspec": {
   "display_name": "Python 3",
   "language": "python",
   "name": "python3"
  },
  "language_info": {
   "codemirror_mode": {
    "name": "ipython",
    "version": 3
   },
   "file_extension": ".py",
   "mimetype": "text/x-python",
   "name": "python",
   "nbconvert_exporter": "python",
   "pygments_lexer": "ipython3",
   "version": "3.7.7"
  }
 },
 "nbformat": 4,
 "nbformat_minor": 4
}
