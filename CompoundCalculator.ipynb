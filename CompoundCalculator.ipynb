{
 "cells": [
  {
   "cell_type": "markdown",
   "metadata": {},
   "source": [
    "# CompoundCalulator 20210705\n",
    "\n",
    "Given a list of base compound names and molecular weights, this notebook calculates possible derivatives (e.g. metabolites) and adds adducts and losses resulting in a list of possible ion masses with labels. These target ion lists are used with the Match notebook to explain peaks in peak lists and is part of Multi-layered Analysis (MLA).\n",
    "In MLA, a peak list is matched to a target ion list; matches are visualized/verified and the residual spectrum is matched against a new target list modified by adding more compounds or adducts. These are added so that combinations with earlier targets are generated."
   ]
  },
  {
   "cell_type": "code",
   "execution_count": 1,
   "metadata": {},
   "outputs": [],
   "source": [
    "from collections import defaultdict\n",
    "from itertools import groupby\n",
    "import datetime\n",
    "import os\n",
    "import re"
   ]
  },
  {
   "cell_type": "markdown",
   "metadata": {},
   "source": [
    "# Class and function definitions\n",
    "------------------------------\n",
    "The basic entity is a 'Composition'...NB. this is not an elemental composition but simply a text label, a count, a root name and a mass. When compositions are combined, the labels are concatenated (using a specified separator character) and the masses are added. The root name is used to track compound sand can be updated following modification."
   ]
  },
  {
   "cell_type": "code",
   "execution_count": 2,
   "metadata": {},
   "outputs": [
    {
     "name": "stdout",
     "output_type": "stream",
     "text": [
      "Proton:  Composition(Name='H+', Count=1, Mass=1.00727, Root='H+')\n",
      "Normal init: Composition(Name='(Na-H)2', Count=1, Mass=43.963888, Root='Na-H')\n",
      "From tuple: Composition(Name='(K-H)2', Count=1, Mass=75.911762, Root='K-H')\n",
      "From merge: Composition(Name='(Na-H)2.(K-H)2', Count=1, Mass=119.87565, Root='Na-H')\n",
      "From tuple list: Composition(Name='(Na-H)2.(K-H)2.NH3', Count=1, Mass=136.902199, Root='Na-H')\n"
     ]
    }
   ],
   "source": [
    "from dataclasses import dataclass\n",
    "\n",
    "@dataclass\n",
    "class Composition:\n",
    "    Name: str = \"\"\n",
    "    Count: int = 1\n",
    "    Mass: float=-1\n",
    "    Root:  str = \"\"       #the composition this on is based on - for tracking\n",
    "    \n",
    "    # For adducts the mass values are the 'Effective Adduct Mass'\n",
    "    # The dictionary can be changed with: Composition.Mods = {new dictionary}\n",
    "    Mods = {'OH':15.99492,\n",
    "        'COOH':29.97418,     #COOH is CH3->COOH, i.e. +O2, -H2)\n",
    "        'Gluc':176.032088,\n",
    "        'Sulphate':79.956815,\n",
    "        'Hex':180.0633,\n",
    "        'C6H10O5':162.052823,\n",
    "            \n",
    "        'H2O':-18.010565,    # losses are negative\n",
    "         'CO2':-43.989829,\n",
    "        'CO':-27.994915,\n",
    "        'HCOOH':-46.005479,\n",
    "        'HCl':-35.976678,\n",
    "        'H2':-2.015650,\n",
    "        'Rib':-132.0425,\n",
    "            \n",
    "        'C2H4O2':60.021129,  # neutrals can be added directly\n",
    "        'CH2O2':46.005479,\n",
    "        'CHO2': 44.997654,          \n",
    "        'NH3':17.026549,     #'Effective adduct masses'\n",
    "        'Na-H':21.981944, \n",
    "            \n",
    "        'K-H':37.955881,'K*H': 39.9540,     #41K - H                   \n",
    "        'Ca-2H': 37.946941,\n",
    "        'Ba-2H':135.889597,\n",
    "        'Fe-3H':52.910913,\n",
    "        'Fe-2H': 53.919286,\n",
    "        'Al-3H':23.957515,       \n",
    "        'Be-2H':6.99653,\n",
    "        'Mg-2H':21.96939,\n",
    "        'Al-3H':23.95806,\n",
    "        'Ti-2H':45.93229,\n",
    "        'V-2H':48.92831,\n",
    "        'Mn-2H':52.92239,\n",
    "        'Ni-2H':55.91969,\n",
    "        'Co-2H':56.91754,\n",
    "        'Cu-2H':60.91395,\n",
    "        'Zn-2H':61.91349,\n",
    "        'Ge-2H':71.90553,\n",
    "        'Sr-2H':85.88996,\n",
    "        'Zr-4H':85.87339,\n",
    "        'Mo-3H':94.88193,\n",
    "        'Ag-H':105.89727,\n",
    "        'Cd-2H':111.88771,\n",
    "        'Tl-5H':199.93530,\n",
    "        'Pb-2H':205.96100,\n",
    "        'Bi-3H':205.95692,\n",
    "        }\n",
    "    \n",
    "    def __init__(self, name, count, mass=None, root=None):\n",
    "\n",
    "        self.Name = f'{name}' if count == 1 else f'({name}){count}'\n",
    "\n",
    "        self.Count = 1    # there's only one of these even if the 'count' (really a multiplier) is gretaer\n",
    "        self.Mass = mass if mass else self.Mods[name]*count        \n",
    "        \n",
    "        if root:\n",
    "            self.Root = root\n",
    "        else:\n",
    "            self.Root = name\n",
    "    \n",
    "    # Make the Composition from a (Name, Count) tuple\n",
    "    @classmethod\n",
    "    def from_tuple(cls, t):\n",
    "        return Composition(t[0],t[1])\n",
    "\n",
    "    # make a composition from a list of (Name,Count)tuples\n",
    "    @classmethod\n",
    "    def from_tuple_list(cls, t_list):\n",
    "        comp = None\n",
    "        \n",
    "        for t in t_list:           \n",
    "            if not comp:               \n",
    "                comp = Composition.from_tuple(t)    #create a comp from the first in the list so we can append others to it\n",
    "            else:\n",
    "                comp2 = Composition.from_tuple(t)\n",
    "                comp = comp.add_comp(comp2, sep='.')\n",
    "                \n",
    "        return comp\n",
    "    \n",
    "    @classmethod\n",
    "    def proton(cls):\n",
    "        return Composition('H+', 1, 1.00727)\n",
    "    \n",
    "    # Some basic sanity checks...\n",
    "    @classmethod\n",
    "    def test(cls):        \n",
    "        print('Proton: ', Composition.proton())\n",
    "\n",
    "        a = Composition('Na-H',2)\n",
    "        print('Normal init:', a)\n",
    "\n",
    "        b = Composition.from_tuple(('K-H',2))\n",
    "        print('From tuple:', b)\n",
    "\n",
    "        ab = a.add_comp(b, sep='.')\n",
    "        print('From merge:', ab)\n",
    "\n",
    "        t_list = [('Na-H',2),('K-H',2), ('NH3', 1)]\n",
    "        abc = Composition.from_tuple_list(t_list)\n",
    "        print('From tuple list:', abc)\n",
    "    \n",
    "    # prints the current list of available modifications\n",
    "    @classmethod\n",
    "    def get_mods_as_strings(cls):\n",
    "        for label in cls.Mods:\n",
    "            print(label, cls.Mods[label])\n",
    "    \n",
    "    def get_proton_comp(self, z):\n",
    "        if z == 1:\n",
    "            name = 'H+'\n",
    "        else:\n",
    "            name = f'{z}H+'\n",
    "            \n",
    "        comp_p = Composition(name, 1, 1.00727 * z)\n",
    "        \n",
    "        return comp_p\n",
    "    \n",
    "    def protonate(self):\n",
    "        return self.add_comp(Composition('H+', 1, 1.00727), sep='.')\n",
    "    \n",
    "    def deprotonate(self):\n",
    "        return self.add_comp(Composition('[-H+]-', 1, -1.00727), sep='.')\n",
    "\n",
    "    def make_copy(self, mult=1):\n",
    "        return Composition(self.Name, self.Count*mult, self.Mass*mult, self.Root)\n",
    "    \n",
    "    def label(self):\n",
    "        return self.Name\n",
    "    \n",
    "    # Merge two compositions to generate a new one with a new mass\n",
    "    def add_comp(self, comp1, sep='_', z=1):\n",
    "        new_name = self.label() + sep + comp1.label()\n",
    "        new_mass = (self.Mass + comp1.Mass)/z\n",
    "#         print(self.Mass, comp1.Mass, new_name, z)\n",
    "        return Composition( new_name, 1, root=self.Root, mass=new_mass)\n",
    "\n",
    "Composition.test()\n",
    "#Composition.get_mods_as_strings()   "
   ]
  },
  {
   "cell_type": "code",
   "execution_count": 25,
   "metadata": {},
   "outputs": [
    {
     "name": "stdout",
     "output_type": "stream",
     "text": [
      "[('x-2H', 3), ('y-H', 2), ('CH2O2', 2), ('q-H3', 2)]\n",
      "31 should be 31\n",
      "x3y2CH2O2x2q2 should be x3y2CH2O2x2q2\n"
     ]
    }
   ],
   "source": [
    "# recursive routine to find combinations\n",
    "def get_combs(maxima, item_count, pos, seed, take, res):\n",
    "    \"\"\"\n",
    "    The idea is that the number of each composition to evaluate can be written as a list of integers, e.g. [1,0,0], [0,1,0].\n",
    "    We process each entry successively, setting the value to the number we need to take or the maximum allowed for that entry;\n",
    "    the number to take for the subsequnt entry is based on the number remaining from the first. E.g. if we are to take 5 and 3\n",
    "    are used for the first entry, we pass 2 to the next. We stop when tke gets to 0 or when we run out of entries,\n",
    "    \"\"\"\n",
    "    if take == 0:\n",
    "        return\n",
    "    elif take > maxima[pos]:\n",
    "        this_take = maxima[pos]\n",
    "    else:\n",
    "        this_take = take\n",
    "    \n",
    "    while this_take >= 0:\n",
    "        \n",
    "        # clear the rest of the seed and set this position's value\n",
    "        for i in range(pos, len(seed)): seed[i] = 0\n",
    "        seed[pos] = this_take\n",
    "\n",
    "        # set up for next level\n",
    "        next_take = take - this_take\n",
    "        next_pos = pos + 1\n",
    "        \n",
    "        if not next_take: # or next_pos == item_count:        # nothing more to add, so save a copy of the current seed\n",
    "            res.append(list(seed))   # copy the seed\n",
    "        elif next_pos == item_count:\n",
    "            break\n",
    "        else:    \n",
    "            get_combs(maxima, item_count, next_pos, seed, next_take, res)\n",
    "        \n",
    "        this_take -=1\n",
    "\n",
    "def get_comps_as_str(cleaned_list):\n",
    "    \"\"\"\n",
    "    Process the list of adduct limits (cleaned to remove duplicates and entries with zero counts) to generate \n",
    "    a simple string of adducts and counts. We remove hydrogen losses if present - these are identify by \"-H\"\n",
    "    where the \"H\" can be foloowed or preceded by a number, n. Note: we require the minus sign since an adduct may contain\n",
    "    H atoms, e.g. HCOOH or C2H3O2. If the last char is a digit (as in C2H3O2) and teh count is > 1, \n",
    "    we add 'x' between the adduct and count\n",
    "    \"\"\"\n",
    "    res_str = \"\"\n",
    "    \n",
    "    for adduct, count in cleaned_list:\n",
    "        \n",
    "        if not count: continue\n",
    "            \n",
    "        a = re.sub(\"-\\d*H\\d*\", \"\", adduct)  # this removes and optional number of H from after or before the H\n",
    "\n",
    "        if count == 1:\n",
    "            res_str += a\n",
    "        elif a[-1].isdigit():\n",
    "            res_str += f'{a}x{count}'            \n",
    "        else:\n",
    "            res_str += f'{a}{count}'\n",
    "    \n",
    "    return res_str\n",
    "    \n",
    "    \n",
    "def make_combinations(limit_list, max_combinations):\n",
    "    \"\"\"\n",
    "    Sets up for the recursive routine by getting and cleaning the list of limits, generating a list of integers \n",
    "    corresponding to the maximum number of each composition, and calling get_combs with take counts of 1, 2, 3...max\n",
    "    Returns a list of (adduct, count) tuples and a string that summarizes the list, generated by removing hydrogen losses from \n",
    "    the adduct strings but only if there is a minus sign. The summary string is in the order the adducts are encountered in the\n",
    "    limit_list and is not sorted further\n",
    "    \"\"\"   \n",
    "    # first we make sure the compositions are unique and limits are non-zero\n",
    "    # this is needed because the user may specify the same composition more than once which woukd\n",
    "    # cause it to be treated as a separate limit\n",
    "    \n",
    "    cleaned = defaultdict(int)\n",
    "    \n",
    "    # create a dictionary of {comp:limit}; if the comp is already present the limit will be added\n",
    "    for (c,l) in limit_list:\n",
    "        if l > 0:\n",
    "            cleaned[c] += l\n",
    "    \n",
    "    # convert the cleaned dict to a list and then into lists of comps and maxima   \n",
    "    clean_list = [(c, cleaned[c]) for c in cleaned]    \n",
    "    print(clean_list)\n",
    "    comps, limits = zip(*clean_list)\n",
    "    \n",
    "    # get a list of combinations; each combination is a list of the counts for the composition at that index\n",
    "    item_count = len(limits)  # number of entries in the limit list\n",
    "    seed = [0]*item_count\n",
    "    \n",
    "    res = []   # this will hold the lists of integers representing the count of each Composition\n",
    "    \n",
    "    # take 1, 2, 3...max_combinations items and append to res[]\n",
    "    for take in range(1, max_combinations+1):\n",
    "        get_combs(limits, item_count, 0, seed, take, res)\n",
    "    \n",
    "    # finally generate a list of the actual compostions, i.e [('x',2), ('y',3)] etc.\n",
    "    # by combining the compositions and each list of counts\n",
    "    combs=[]\n",
    "    \n",
    "    for r in res:\n",
    "        c = [(comps[i], r[i]) for i in range(item_count) if r[i] > 0]\n",
    "        combs.append(c)\n",
    "    \n",
    "    return combs,get_comps_as_str(clean_list)\n",
    "\n",
    "# Test code\n",
    "# Note: x is deliberately present twice\n",
    "combs, comps_as_str = make_combinations([('x-2H', 2), ('y-H', 2), ('CH2O2', 2), ('q-H3',2), ('x-2H',1)], 3)\n",
    "\n",
    "print(len(combs), 'should be 31')\n",
    "print(comps_as_str, 'should be x3y2CH2O2x2q2')\n",
    "# for c in combs:\n",
    "#     print(c)"
   ]
  },
  {
   "cell_type": "code",
   "execution_count": 4,
   "metadata": {},
   "outputs": [],
   "source": [
    "def add_mods(compounds, limits, sep='_', update_root=False):\n",
    "    \"\"\"\n",
    "    Adds modifications to each compound in the list returning the new compound list.\n",
    "    The modfications are provided as a list of (mods, max count) tuples\n",
    "    By default the root is root updated, so it stays the same as the orignal compound, but if True it\n",
    "    is changed to the new comppound. This allows the root to reflect the compounds at a different level, e.g. after phase 1\n",
    "    \"\"\"\n",
    "    mods = []\n",
    "\n",
    "    # Make the compounds by copying the base and adding the possible mods\n",
    "    for c in compounds:\n",
    "        for l in limits:\n",
    "            for i in range(l[1]):\n",
    "                new_comp = c.make_copy().add_comp(Composition(l[0], i+1), sep=sep)\n",
    "                \n",
    "                if update_root:\n",
    "                    new_comp.Root = new_comp.Name\n",
    "                mods.append(new_comp)\n",
    "                #print(new_comp)\n",
    "\n",
    "    compounds += mods\n",
    "    \n",
    "    return compounds\n"
   ]
  },
  {
   "cell_type": "code",
   "execution_count": 5,
   "metadata": {},
   "outputs": [],
   "source": [
    "# convert compositions to a printable string\n",
    "def limits_as_string(limits):\n",
    "    \"\"\"\n",
    "    Coverts the composition limits for a particular type (adducts, losses, phase 1...) to string.\n",
    "    Compositions can be switched off by setting the limit to zero so we skip those\n",
    "    \"\"\"\n",
    "    non_zero_limits = [l for l in limits if l[1] > 0]  # a list of compositions withlimit > 0\n",
    "    \n",
    "    if len(non_zero_limits) == 0:\n",
    "        return \"\"\n",
    "    else:\n",
    "        desc = \",\".join([f'{l}' for l in non_zero_limits])\n",
    "        return desc"
   ]
  },
  {
   "cell_type": "code",
   "execution_count": 6,
   "metadata": {},
   "outputs": [],
   "source": [
    "def get_comp_adduct_str(comp_names, mult_limit, hetero_dimers, adduct_str, max_adducts):\n",
    "    \"\"\"    \n",
    "    Builds a string describing the compounds and adducts\n",
    "    \"\"\"\n",
    "    \n",
    "    #Build the output name\n",
    "    c_a_str = f'{comp_names}'           \n",
    "    c_a_str += f'_m{mult_limit}' if mult_limit else \"\"\n",
    "    c_a_str += 'h' if hetero_dimers else \"\"\n",
    "    c_a_str += f'_{max_adducts}-{adduct_str}' if adduct_str else \"\"\n",
    "    \n",
    "    return c_a_str\n",
    "\n",
    "\n",
    "# generates a unique file name given the parameters and a string representing the date\n",
    "# if xic_width is non zero the user wants a list of masses and widthes for use with PeakView\n",
    "def get_ouput_file_name(comp_names, ionization, time_str, include_date_in_file_name, \\\n",
    "                        mult_limit, hetero_dimers, adduct_str, max_adducts, xic_width):\n",
    "    \"\"\"\n",
    "    Generates a file name based on the compounds used (as a string Comp1_comp2.. etc.) and the polarity\n",
    "    with additions indicating the file is intended to extract XICs in PeakView and the date/time if\n",
    "    required; the format used by the main code is YYMMDD_HHMMSS\n",
    "    \"\"\"\n",
    "    polarity = 'neg' if ionization == \"negative\" else 'pos'\n",
    "\n",
    "    wants_xic = xic_width > 0\n",
    "\n",
    "    #Build the output name\n",
    "    base_name = get_comp_adduct_str(comp_names, mult_limit, hetero_dimers, adduct_str, max_adducts)\n",
    "    base_name += f' {polarity}'\n",
    "\n",
    "    if wants_xic:\n",
    "        base_name += ' xic'\n",
    "        \n",
    "    if include_date_in_file_name:\n",
    "        base_name += ' ' + time_str\n",
    "    \n",
    "    return wants_xic, base_name + '.txt'\n",
    "\n"
   ]
  },
  {
   "cell_type": "markdown",
   "metadata": {},
   "source": [
    "# Setup\n",
    "-----\n",
    "\n",
    "Provide the  base compound information and other parameters.\n",
    "The base compounds are supplied as a list of (name, mass) tuples.\n",
    "The mass need not be a real known compound but can be an observed and unexplained peak so that its potential derivatives are generated.\n",
    "\n",
    "All user-defined parameters are set here so, once they are set, the code can be executed with 'Run selected cell and all below\"\n",
    "## Shared path"
   ]
  },
  {
   "cell_type": "code",
   "execution_count": 7,
   "metadata": {},
   "outputs": [
    {
     "name": "stdout",
     "output_type": "stream",
     "text": [
      "/Users/ronbonner/Data/SharedData\n"
     ]
    }
   ],
   "source": [
    "# Define  shared path for data files\n",
    "# This allows the Calculator and Match notebooks to easily share data\n",
    "# This is a platform independent way of defining a path, but Windows users must start with 'C:'\n",
    "shared_path = os.sep + os.path.join('Users','ronbonner','Data', 'SharedData')\n",
    "    \n",
    "print(shared_path)"
   ]
  },
  {
   "cell_type": "markdown",
   "metadata": {},
   "source": [
    "## Compounds and adducts"
   ]
  },
  {
   "cell_type": "code",
   "execution_count": 41,
   "metadata": {},
   "outputs": [
    {
     "name": "stdout",
     "output_type": "stream",
     "text": [
      "Adducts: Na3Ca2\n",
      "Losses: H2O\n"
     ]
    }
   ],
   "source": [
    "# Define the compound(s) we want to work with\n",
    "# can be known compouds or unknown observed peaks, here treated as MH+ by subtracting the mass of H+\n",
    "base_compounds = [('DiMeSA', 146.057909)]   # must be a list\n",
    "\n",
    "# base_compounds = [('Guan', 283.091669),  # Guanosine\n",
    "# base_compounds = [('x116', 116.0711-1.00727), ('x114', 114.0668-1.00727),('x132', 132.07690-1.00727),\n",
    "#                   ('y114', 114.09040-1.00727), ('x190', 190.11950-1.00727)\n",
    "#                  ]\n",
    "\n",
    "# Define the limits for metabolites and adducts...\n",
    "# Defining this way is not required but allows metabolite and adduct sets to be easily changed depending on polarity.\n",
    "# Unwanted compositions can be rmoved or the limit can be set to zero\n",
    "\n",
    "ionization = 'positive'          # only 'negative' changes the settings...anything else is 'positive'\n",
    "\n",
    "phase1_limits = [('OH', 0), ('COOH', 0)]  # metabolite modifications - phase 1\n",
    "\n",
    "if ionization == 'negative':\n",
    "    phase2_limits = [('Gluc', 1), ('Sulphate', 0)]\n",
    "    adduct_limits = [('Na-H', 2), ('K-H', 2), ('C2H4O2',1), ('CH2O2', 1)]  \n",
    "    loss_limits = [('H2O',0), ('CO2',0)]\n",
    "else:\n",
    "    phase2_limits = [('Gluc', 0)]\n",
    "    adduct_limits = [('Na-H', 3), ('K-H',0), ('K*H',0), ('NH3',0), ('Ca-2H', 2)]                   \n",
    "    loss_limits = [('H2O',1), ('HCOOH', 0), ('Am', 0), ('Rib', 0)]\n",
    "\n",
    "# it can be useful to summarize here - to allow review before proceeding\n",
    "print('Adducts:', get_comps_as_str(adduct_limits))\n",
    "print('Losses:', get_comps_as_str(loss_limits))"
   ]
  },
  {
   "cell_type": "markdown",
   "metadata": {},
   "source": [
    "## Parameters"
   ]
  },
  {
   "cell_type": "code",
   "execution_count": 42,
   "metadata": {},
   "outputs": [],
   "source": [
    "multimer_limit = 3              # maximum multimer count\n",
    "max_adduct_count = 5            # total number of adducts allowed\n",
    "include_hetero_dimers = False     # if True, calculate dimers of *different* compounds"
   ]
  },
  {
   "cell_type": "markdown",
   "metadata": {},
   "source": [
    "## Output"
   ]
  },
  {
   "cell_type": "code",
   "execution_count": 43,
   "metadata": {},
   "outputs": [
    {
     "name": "stdout",
     "output_type": "stream",
     "text": [
      "/Users/ronbonner/Data/SharedData/Test\n"
     ]
    }
   ],
   "source": [
    "\n",
    "output_mass_limit = 1000  # masses greater than this are not written to the file\n",
    "xic_width = 0.0           # if 0 the normal output form is used...alternative, e.g. 0.01, to generate the PeakView compatible form\n",
    "\n",
    "save_ion_list = True      # write the results a file (or print thm here)\n",
    "include_date_in_file_name = False   #include the date_time in the file name\n",
    "\n",
    "# Generate the output_path; optional - add a subfolder to the shared path\n",
    "# otherwise use: data_path = shared_path\n",
    "data_path = os.path.join(shared_path,'Test')\n",
    "print(data_path)"
   ]
  },
  {
   "cell_type": "markdown",
   "metadata": {},
   "source": [
    "# Step 1 - Adduct generation\n",
    "---------------------------\n",
    "\n",
    "Generate a list of possible adduct forms by generating all comibnations of adducts (up to the specified limit) and selecting the unique forms (i.e. as far as we are concerned, a+b+a is the same as a+a+b). Note: this approach would also work if we wanted to allow combinations of the metabolites. These will be added to each compound."
   ]
  },
  {
   "cell_type": "code",
   "execution_count": 44,
   "metadata": {
    "tags": []
   },
   "outputs": [
    {
     "name": "stdout",
     "output_type": "stream",
     "text": [
      "[('Na-H', 3), ('Ca-2H', 2)]\n",
      "11 adduct forms\n",
      "Na3Ca2-H2O\n"
     ]
    }
   ],
   "source": [
    "adduct_combs, adducts_as_str = make_combinations(adduct_limits, max_adduct_count)\n",
    "\n",
    "adducts_as_str += '-' + get_comps_as_str(loss_limits)     # add losses \n",
    "    \n",
    "adduct_comps = [Composition.from_tuple_list(c) for c in adduct_combs]\n",
    "adduct_comps = sorted(adduct_comps, key=lambda x: x.Mass)\n",
    "\n",
    "print(len(adduct_comps),'adduct forms')\n",
    "print(adducts_as_str)\n",
    "\n",
    "# for a in adduct_comps:  # to view compositions\n",
    "#     print(a)"
   ]
  },
  {
   "cell_type": "markdown",
   "metadata": {},
   "source": [
    "# Step 2 - Compound generation\n",
    "-----------------------------\n",
    "\n",
    "We convert the base compound list to a list of compositions and then successively apply the various modifications, generating extended compound lists, in phase order.\n",
    "\n",
    "Finally we calculate the dimers and heterodimers (if desired)"
   ]
  },
  {
   "cell_type": "code",
   "execution_count": 45,
   "metadata": {
    "tags": []
   },
   "outputs": [
    {
     "name": "stdout",
     "output_type": "stream",
     "text": [
      "1 compounds after phase 1\n",
      "1 after phase 2\n",
      "3 with multimers\n",
      "6 after losses\n"
     ]
    }
   ],
   "source": [
    "# Make the compounds by copying the base and adding the possible mods\n",
    "# The root is set wqual to the name unless specifically specified\n",
    "\n",
    "compounds = [Composition(name, 1, mass) for name, mass in base_compounds]\n",
    "\n",
    "# If update_root is True, the root name is changed to the modified name otherwise it is left alone\n",
    "# This allows the user to choose whether to keep the root as the base conpound or change it to a modified form\n",
    "\n",
    "compounds = add_mods(compounds, phase1_limits, update_root=True)\n",
    "print(len(compounds), 'compounds after phase 1')\n",
    "\n",
    "compounds = add_mods(compounds, phase2_limits, update_root=True)\n",
    "print(len(compounds), 'after phase 2')\n",
    "\n",
    "multimers = []\n",
    "\n",
    "for c in compounds:\n",
    "    for m in range(2, multimer_limit+1):\n",
    "        new_comp = c.make_copy(m)\n",
    "        multimers.append(new_comp)\n",
    "\n",
    "if include_hetero_dimers:\n",
    "    for i, c in enumerate(compounds):\n",
    "        for j in range(i+1, len(compounds)):\n",
    "            new_comp = c.make_copy()\n",
    "            new_comp_2 = compounds[j].make_copy()\n",
    "            new_comp = new_comp.add_comp(new_comp_2, sep='+')\n",
    "            multimers.append(new_comp)\n",
    "    \n",
    "compounds += multimers\n",
    "\n",
    "print(len(compounds), 'with multimers')\n",
    "\n",
    "compounds = add_mods(compounds, loss_limits, sep='-')\n",
    "print (len(compounds), 'after losses')\n",
    "\n",
    "# for c in compounds:\n",
    "#     print(c)"
   ]
  },
  {
   "cell_type": "markdown",
   "metadata": {},
   "source": [
    "# Step 3 - Generate ion forms\n",
    "----------------------------\n",
    "\n",
    "We now add all the adduct forms to each of the compounds. The approach relies on adducts being formed by replacing labile protons and are therefore indpendent of the polarity; the final form is determined by providing a charge agent, i.e. adding or subtracting protons.\n"
   ]
  },
  {
   "cell_type": "code",
   "execution_count": 46,
   "metadata": {
    "tags": []
   },
   "outputs": [
    {
     "name": "stdout",
     "output_type": "stream",
     "text": [
      "72 ion forms\n"
     ]
    }
   ],
   "source": [
    "ion_forms = []  \n",
    "\n",
    "# now we add each compound on its own and then with the adducts\n",
    "for c in compounds:\n",
    "    \n",
    "    # add the base compound, with a proton added or subtracted depending on the ionization mode\n",
    "    new_comp = c.make_copy()\n",
    "    if ionization == 'negative':\n",
    "        new_comp = new_comp.deprotonate()\n",
    "    else:\n",
    "        new_comp = new_comp.protonate() \n",
    "        \n",
    "    ion_forms.append(new_comp)   \n",
    "    \n",
    "    # then add the adduct forms\n",
    "    for a in adduct_comps:\n",
    "        new_comp = c.make_copy().add_comp(a, sep='.')\n",
    "        if ionization == 'negative':\n",
    "            new_comp = new_comp.deprotonate()\n",
    "        else:\n",
    "            new_comp = new_comp.protonate()\n",
    "        ion_forms.append(new_comp)       \n",
    "        \n",
    "print(len(ion_forms), 'ion forms')\n",
    "    "
   ]
  },
  {
   "cell_type": "markdown",
   "metadata": {
    "tags": []
   },
   "source": [
    "# Step 4 - Summarize results and conditions\n",
    "-----------------------------------------"
   ]
  },
  {
   "cell_type": "code",
   "execution_count": 47,
   "metadata": {
    "tags": []
   },
   "outputs": [
    {
     "name": "stdout",
     "output_type": "stream",
     "text": [
      "DiMeSA_m3_5-Na3Ca2-H2O\n",
      "210705_085506\n",
      "Compounds: DiMeSA\n",
      "Up to 3 multimers\n",
      "positive mode\n",
      "Adducts: ('Na-H', 3),('Ca-2H', 2), max count = 5\n",
      "Losses: ('H2O', 1)\n",
      "72 ion forms\n",
      "DiMeSA_m3_5-Na3Ca2-H2O;Time:210705_085506;Compounds:DiMeSA;Multimer_limit:3;Polarity:positive;Adducts:('Na-H', 3),('Ca-2H', 2); Max adduct count:5;Losses:('H2O', 1)\n"
     ]
    }
   ],
   "source": [
    "# summarize calculations\n",
    "\n",
    "current_time = datetime.datetime.now()\n",
    "\n",
    "time_str = current_time.strftime('%y%m%d_%H%M%S')\n",
    "\n",
    "comp_names = '-'.join([f'{c}' for (c,m) in base_compounds])  # a string of the compoundnames separated by '-'\n",
    "\n",
    "# first line of file is a summary of the compounds and adducts\n",
    "cond_str = get_comp_adduct_str(comp_names, multimer_limit, include_hetero_dimers, adducts_as_str, max_adduct_count)\n",
    "\n",
    "print(cond_str)\n",
    "\n",
    "print (time_str)\n",
    "cond_str += f';Time:{time_str}'\n",
    "\n",
    "print('Compounds:', comp_names)\n",
    "cond_str += f';Compounds:{comp_names}'\n",
    "\n",
    "if multimer_limit > 1:\n",
    "    print(f'Up to {multimer_limit} multimers')\n",
    "    cond_str += f';Multimer_limit:{multimer_limit}'\n",
    "\n",
    "if include_hetero_dimers:\n",
    "    print(f'Include heterodimers')\n",
    "    cond_str += f';Heterodimers:True'\n",
    "\n",
    "print(f'{ionization} mode')\n",
    "cond_str += f';Polarity:{ionization}'\n",
    "\n",
    "desc = limits_as_string(phase1_limits)\n",
    "if desc:\n",
    "    print(f'Phase 1: {desc}')\n",
    "    cond_str += f';Phase_1:{desc}'\n",
    "\n",
    "\n",
    "desc = limits_as_string(phase2_limits)\n",
    "if desc:\n",
    "    print(f'Phase 2: {desc}')\n",
    "    cond_str += f';Phase_2:{desc}'\n",
    "\n",
    "desc = limits_as_string(adduct_limits)\n",
    "if desc:\n",
    "    print(f'Adducts: {desc}, max count = {max_adduct_count}')\n",
    "    cond_str += f';Adducts:{desc}; Max adduct count:{max_adduct_count}'\n",
    "\n",
    "desc = limits_as_string(loss_limits)\n",
    "if desc:\n",
    "    print(f'Losses: {desc}')  \n",
    "    cond_str += f';Losses:{desc}'\n",
    "          \n",
    "print(len(ion_forms), 'ion forms')\n",
    "\n",
    "print(cond_str)"
   ]
  },
  {
   "cell_type": "markdown",
   "metadata": {},
   "source": [
    "# Step 5 - Save the mass/name list\n",
    "--------------------------------\n",
    "\n",
    "Optionally save the ion forms as a simple tab delimited text file.\n",
    "- the main format is: mass, root, label\n",
    "- an additional format: mass, xic width, name is intended to be used with PeakView Extract XIC (by importing it)\n",
    "\n",
    "The list can also be truncated to an upper mass limit.\n",
    "\n",
    "To be sure the file exists, we re-open it and count the nuber of lines"
   ]
  },
  {
   "cell_type": "code",
   "execution_count": 48,
   "metadata": {
    "tags": []
   },
   "outputs": [
    {
     "name": "stdout",
     "output_type": "stream",
     "text": [
      "/Users/ronbonner/Data/SharedData/Test/DiMeSA_m3_5-Na3Ca2-H2O pos.txt\n",
      "210705_085506\n",
      "73 lines written to /Users/ronbonner/Data/SharedData/Test/DiMeSA_m3_5-Na3Ca2-H2O pos.txt\n",
      "73 read #DiMeSA_m3_5-Na3Ca2-H2O;Time:210705_085506;Compounds:DiMeSA;Multimer_limit:3;Polarity:positive;Adducts:('Na-H', 3),('Ca-2H', 2); Max adduct count:5;Losses:('H2O', 1)\n",
      "\n"
     ]
    }
   ],
   "source": [
    "# Set up fie names and paths...\n",
    "\n",
    "if save_ion_list:\n",
    "    \n",
    "    wants_xic, out_name = get_ouput_file_name(comp_names, ionization, time_str, include_date_in_file_name, \\\n",
    "                                    multimer_limit, include_hetero_dimers, adducts_as_str, max_adduct_count, xic_width)\n",
    "\n",
    "    line_count = 1      # first line is conditions\n",
    "\n",
    "    ion_forms = sorted(ion_forms, key=lambda x: x.Mass)\n",
    "\n",
    "    output_path = os.path.join(data_path, out_name)\n",
    "\n",
    "    print (output_path)\n",
    "\n",
    "    with open(output_path, 'w') as f:\n",
    "\n",
    "        print(f'#{cond_str}', file=f)\n",
    "\n",
    "        for ion in ion_forms:\n",
    "\n",
    "            if ion.Mass > output_mass_limit: \n",
    "                break       \n",
    "\n",
    "            if wants_xic:\n",
    "                print(f'{ion.Mass:10.4f}\\t{xic_width}\\t{ion.Name}', file=f)\n",
    "            else:\n",
    "                print(f'{ion.Mass:10.4f}\\t{ion.Root}\\t{ion.Name}', file=f)\n",
    "\n",
    "            line_count += 1\n",
    "\n",
    "        f.close()\n",
    "\n",
    "    print(time_str) \n",
    "    print(line_count, 'lines written to', output_path)\n",
    "\n",
    "    with open(output_path, 'r') as f:   \n",
    "        lines_read = f.readlines()    \n",
    "        f.close()\n",
    "\n",
    "    print(len(lines_read), 'read', lines_read[0])\n",
    "\n",
    "#     if lines_read[0][0] == '#':\n",
    "#         print(\"Conditions:\")\n",
    "#         print(lines_read[0][1:])\n",
    "else:\n",
    "    for ion in sorted(ion_forms, key=lambda x:x.Mass):        #sort list by mass\n",
    "        print(f'{ion.Mass:12.4f}     {ion.Root:14} {ion.Name}')"
   ]
  },
  {
   "cell_type": "code",
   "execution_count": null,
   "metadata": {},
   "outputs": [],
   "source": []
  }
 ],
 "metadata": {
  "kernelspec": {
   "display_name": "Python 3",
   "language": "python",
   "name": "python3"
  },
  "language_info": {
   "codemirror_mode": {
    "name": "ipython",
    "version": 3
   },
   "file_extension": ".py",
   "mimetype": "text/x-python",
   "name": "python",
   "nbconvert_exporter": "python",
   "pygments_lexer": "ipython3",
   "version": "3.7.10"
  }
 },
 "nbformat": 4,
 "nbformat_minor": 4
}
